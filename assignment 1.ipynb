{
 "cells": [
  {
   "cell_type": "code",
   "execution_count": 1,
   "id": "a23902ca",
   "metadata": {},
   "outputs": [
    {
     "data": {
      "text/plain": [
       "'abcdeg'"
      ]
     },
     "execution_count": 1,
     "metadata": {},
     "output_type": "execute_result"
    }
   ],
   "source": [
    "#Write a python program to convert a string to lower case\n",
    "string='abcdeg'\n",
    "string.lower()"
   ]
  },
  {
   "cell_type": "code",
   "execution_count": 3,
   "id": "56daf95a",
   "metadata": {},
   "outputs": [
    {
     "data": {
      "text/plain": [
       "'neeraj'"
      ]
     },
     "execution_count": 3,
     "metadata": {},
     "output_type": "execute_result"
    }
   ],
   "source": [
    "#2.write a python program to convert only odd indexed characters to lower case\n",
    "x1=\"nEeRaJ\"\n",
    "x1[0]+x1[1].lower()+x1[2]+x1[3].lower()+x1[4]+x1[5].lower()"
   ]
  },
  {
   "cell_type": "code",
   "execution_count": 4,
   "id": "c0a261e7",
   "metadata": {},
   "outputs": [
    {
     "data": {
      "text/plain": [
       "'nEeRaJ'"
      ]
     },
     "execution_count": 4,
     "metadata": {},
     "output_type": "execute_result"
    }
   ],
   "source": [
    "#3.write a python program to convert only even indexed characters to lower case\n",
    "x2=\"NEERAJ\"\n",
    "x2[0].lower()+x2[1]+x2[2].lower()+x2[3]+x2[4].lower()+x2[5]"
   ]
  },
  {
   "cell_type": "code",
   "execution_count": 14,
   "id": "1f27ddbd",
   "metadata": {},
   "outputs": [
    {
     "data": {
      "text/plain": [
       "'nEeRaJ'"
      ]
     },
     "execution_count": 14,
     "metadata": {},
     "output_type": "execute_result"
    }
   ],
   "source": [
    "#4.write a python program to convert only odd indexed characters to upper case\n",
    "x3=\"neeraj\"\n",
    "x3[0]+x3[1].upper()+x3[2]+x3[3].upper()+x3[4]+x3[5].upper()"
   ]
  },
  {
   "cell_type": "code",
   "execution_count": 16,
   "id": "1c2a7ca7",
   "metadata": {},
   "outputs": [
    {
     "data": {
      "text/plain": [
       "'NEErAj'"
      ]
     },
     "execution_count": 16,
     "metadata": {},
     "output_type": "execute_result"
    }
   ],
   "source": [
    "#5.write a python program to convert only even indexed characters to upper case\n",
    "x4=\"nEEraj\"\n",
    "x4[0].upper()+x4[1]+x4[2].upper()+x4[3]+x4[4].upper()+x4[5]"
   ]
  },
  {
   "cell_type": "code",
   "execution_count": 20,
   "id": "a23cd96c",
   "metadata": {},
   "outputs": [
    {
     "name": "stdout",
     "output_type": "stream",
     "text": [
      "Enter your name: neeraj\n",
      "Enter your sex : male\n",
      "Enter your age: 22\n",
      "Enter your phone number: 9701986862\n",
      "Enter your father's name: ravi\n",
      "Enter your mother's name: rajani\n",
      "Name: neerajSex: maleAge: 22Phone Number: 9701986862Father's Name: raviMother's Name: rajani\n",
      "\n"
     ]
    }
   ],
   "source": [
    "#6.Write a python program where you have different variable which contains your name, sex,age, Phone number,father's name and mothers name. And by using this variable create a variable named bio-data where you will use all this variable\n",
    "name = input(\"Enter your name: \")\n",
    "sex = input(\"Enter your sex : \")\n",
    "age = int(input(\"Enter your age: \"))\n",
    "phone_number = input(\"Enter your phone number: \")\n",
    "father_name = input(\"Enter your father's name: \")\n",
    "mother_name = input(\"Enter your mother's name: \")\n",
    "\n",
    "\n",
    "bio_data = \"Name: \" + name + \"Sex: \" + sex + \"Age: \" + str(age) + \"Phone Number: \" + phone_number + \"Father's Name: \" + father_name + \"Mother's Name: \" + mother_name + \"\\n\"\n",
    "\n",
    "\n",
    "print(bio_data)"
   ]
  },
  {
   "cell_type": "code",
   "execution_count": 19,
   "id": "70513998",
   "metadata": {},
   "outputs": [
    {
     "data": {
      "text/plain": [
       "10"
      ]
     },
     "execution_count": 19,
     "metadata": {},
     "output_type": "execute_result"
    }
   ],
   "source": [
    "#7.write a python program to count how many times \"@\" occurred\n",
    "x5=\"@@@@123445@@@@@@\"\n",
    "x5.count(\"@\")"
   ]
  },
  {
   "cell_type": "code",
   "execution_count": 22,
   "id": "855b3d05",
   "metadata": {},
   "outputs": [
    {
     "name": "stdout",
     "output_type": "stream",
     "text": [
      "name1,name2,name3\n"
     ]
    }
   ],
   "source": [
    "#Write a python program to get only names from the string “name1.@gmail.com,name2.@gmail.com,name 3.@gmail.com” Output-name1,name2,name3\n",
    "x6=\"name1.@gmail.com,name2.@gmail.com,name3.@gmail.com\"\n",
    "print(x6.replace(\".@gmail.com\",\"\"))"
   ]
  },
  {
   "cell_type": "code",
   "execution_count": 24,
   "id": "834b618d",
   "metadata": {},
   "outputs": [
    {
     "name": "stdout",
     "output_type": "stream",
     "text": [
      "mei\n"
     ]
    }
   ],
   "source": [
    "#9.Given a string of odd length greater that 9,return a new string made of the middle three characters of a given string\n",
    "x7=\"mynameissan\"\n",
    "length=len(x7)\n",
    "center=length//2\n",
    "print(x7[center-1]+x7[center]+x7[center+1])"
   ]
  },
  {
   "cell_type": "code",
   "execution_count": 25,
   "id": "ae7ed62b",
   "metadata": {},
   "outputs": [
    {
     "name": "stdout",
     "output_type": "stream",
     "text": [
      "vfbikgdtsdedbsf\n"
     ]
    }
   ],
   "source": [
    "#10.write a python program to insert a 2 string in the middle of 1 string\n",
    "x8=\"vfbdbsf\"\n",
    "x9=\"ikgdtsde\"\n",
    "center=len(x8)//2\n",
    "print(x8[:center]+x9+x8[center:])"
   ]
  },
  {
   "cell_type": "code",
   "execution_count": 27,
   "id": "10fa2eaa",
   "metadata": {},
   "outputs": [
    {
     "data": {
      "text/plain": [
       "'bcdfghjklmnpqrstvwxyz'"
      ]
     },
     "execution_count": 27,
     "metadata": {},
     "output_type": "execute_result"
    }
   ],
   "source": [
    "# 11.Write a program to remove vowels from the entire alphabets \n",
    "alphabets = \"abcdefghijklmnopqrstuvwxyz\"\n",
    "alphabets[1:4]+alphabets[5:8]+alphabets[9:14]+alphabets[15:20]+alphabets[21:]"
   ]
  }
 ],
 "metadata": {
  "kernelspec": {
   "display_name": "Python 3 (ipykernel)",
   "language": "python",
   "name": "python3"
  },
  "language_info": {
   "codemirror_mode": {
    "name": "ipython",
    "version": 3
   },
   "file_extension": ".py",
   "mimetype": "text/x-python",
   "name": "python",
   "nbconvert_exporter": "python",
   "pygments_lexer": "ipython3",
   "version": "3.9.13"
  }
 },
 "nbformat": 4,
 "nbformat_minor": 5
}
