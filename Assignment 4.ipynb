{
 "cells": [
  {
   "cell_type": "code",
   "execution_count": 3,
   "id": "ae66469d",
   "metadata": {},
   "outputs": [
    {
     "name": "stdout",
     "output_type": "stream",
     "text": [
      "1\n",
      "abc\n",
      "2\n",
      "4\n",
      "a\n",
      "1.1\n",
      "(2+1j)\n"
     ]
    }
   ],
   "source": [
    "# create a python program to print the all the elements in the list\n",
    "list=[1,'abc',2,4,'a',1.1,2+1j]\n",
    "for i in list:\n",
    "    print(i)"
   ]
  },
  {
   "cell_type": "code",
   "execution_count": 5,
   "id": "946a56ad",
   "metadata": {},
   "outputs": [
    {
     "name": "stdout",
     "output_type": "stream",
     "text": [
      "enter the length3\n",
      "enter the data typeint\n",
      "1\n",
      "[1]\n",
      "enter the data typefloat\n",
      "1.1\n",
      "[1, 1.1]\n",
      "enter the data types\n",
      "a\n",
      "[1, 1.1, 'a']\n"
     ]
    }
   ],
   "source": [
    "# Write a python program where you will ask the users to insert the elements\n",
    "l=[]\n",
    "for i in range(int(input(\"enter the length\"))):\n",
    "    var=input('enter the data type')\n",
    "    if var=='int':\n",
    "        l.insert(i,int(input()))\n",
    "    elif var=='float':\n",
    "        l.insert(i,float(input()))\n",
    "    elif var=='complex':\n",
    "        l.insert(i,complex(input()))\n",
    "    else:\n",
    "        l.insert(i,input())\n",
    "    print(l)\n"
   ]
  },
  {
   "cell_type": "code",
   "execution_count": 15,
   "id": "72313c21",
   "metadata": {},
   "outputs": [
    {
     "name": "stdout",
     "output_type": "stream",
     "text": [
      "1\n",
      "3\n",
      "5\n",
      "7\n"
     ]
    }
   ],
   "source": [
    "\n",
    "list2=[1,2,3,4,5,6,7,'a']\n",
    "for i in range(0,len(list2),2):\n",
    "    print(list2[i])\n",
    "   "
   ]
  },
  {
   "cell_type": "code",
   "execution_count": 28,
   "id": "a380f6ca",
   "metadata": {},
   "outputs": [],
   "source": [
    "even=[]\n",
    "l=[1,2,3,4,5,6,7,'a']\n",
    "for i in range(len(l)):\n",
    "    if i%2==0:\n",
    "        even.append(l[i])\n",
    "         "
   ]
  },
  {
   "cell_type": "code",
   "execution_count": 29,
   "id": "2c33ea7c",
   "metadata": {},
   "outputs": [
    {
     "data": {
      "text/plain": [
       "[1, 3, 5, 7]"
      ]
     },
     "execution_count": 29,
     "metadata": {},
     "output_type": "execute_result"
    }
   ],
   "source": [
    "even\n"
   ]
  },
  {
   "cell_type": "code",
   "execution_count": 41,
   "id": "784331fc",
   "metadata": {},
   "outputs": [],
   "source": [
    "l1=[1,2,3,4]\n",
    "x=0\n",
    "z=1\n",
    "for i in range(len(l1)):\n",
    "    x=x+l1[i]\n",
    "for j in range(len(l1)):\n",
    "    z=z*l1[j]"
   ]
  },
  {
   "cell_type": "markdown",
   "id": "9a87a69e",
   "metadata": {},
   "source": [
    "l1"
   ]
  },
  {
   "cell_type": "markdown",
   "id": "344f639a",
   "metadata": {},
   "source": [
    "l1\n"
   ]
  },
  {
   "cell_type": "code",
   "execution_count": 39,
   "id": "3a69f68b",
   "metadata": {},
   "outputs": [
    {
     "data": {
      "text/plain": [
       "10"
      ]
     },
     "execution_count": 39,
     "metadata": {},
     "output_type": "execute_result"
    }
   ],
   "source": [
    "x"
   ]
  },
  {
   "cell_type": "code",
   "execution_count": 42,
   "id": "21587d47",
   "metadata": {},
   "outputs": [
    {
     "data": {
      "text/plain": [
       "24"
      ]
     },
     "execution_count": 42,
     "metadata": {},
     "output_type": "execute_result"
    }
   ],
   "source": [
    "z"
   ]
  },
  {
   "cell_type": "code",
   "execution_count": 44,
   "id": "953d9531",
   "metadata": {},
   "outputs": [
    {
     "name": "stdout",
     "output_type": "stream",
     "text": [
      "min 4\n",
      "max 90\n"
     ]
    }
   ],
   "source": [
    "l2=[8,4,11,7,90]\n",
    "l2.sort()\n",
    "a=l2[0]\n",
    "b=l2[-1]\n",
    "print('min',a)\n",
    "print('max',b)"
   ]
  },
  {
   "cell_type": "markdown",
   "id": "8536dbf6",
   "metadata": {},
   "source": []
  },
  {
   "cell_type": "markdown",
   "id": "387b51a0",
   "metadata": {},
   "source": [
    "### "
   ]
  },
  {
   "cell_type": "code",
   "execution_count": 51,
   "id": "d7417b83",
   "metadata": {},
   "outputs": [
    {
     "data": {
      "text/plain": [
       "'red'"
      ]
     },
     "execution_count": 51,
     "metadata": {},
     "output_type": "execute_result"
    }
   ],
   "source": [
    "l3=['red','green','white','black','pink','yellow']\n",
    "l3.pop(5)\n",
    "l3.pop(4)\n",
    "l3.pop(0)\n"
   ]
  },
  {
   "cell_type": "markdown",
   "id": "610914a7",
   "metadata": {},
   "source": [
    "### "
   ]
  },
  {
   "cell_type": "code",
   "execution_count": 52,
   "id": "c0626a1e",
   "metadata": {},
   "outputs": [
    {
     "data": {
      "text/plain": [
       "['green', 'white', 'black']"
      ]
     },
     "execution_count": 52,
     "metadata": {},
     "output_type": "execute_result"
    }
   ],
   "source": [
    "l3"
   ]
  },
  {
   "cell_type": "code",
   "execution_count": 79,
   "id": "5ef732bf",
   "metadata": {},
   "outputs": [
    {
     "data": {
      "text/plain": [
       "'12345'"
      ]
     },
     "execution_count": 79,
     "metadata": {},
     "output_type": "execute_result"
    }
   ],
   "source": [
    "string=''\n",
    "list5=[1,2,3,4,5]\n",
    "for i in range(0,len(list5)):\n",
    "    x=str(list5[i])\n",
    "    string=string+x\n",
    "string\n",
    "\n"
   ]
  },
  {
   "cell_type": "code",
   "execution_count": 99,
   "id": "c29d52c5",
   "metadata": {},
   "outputs": [
    {
     "name": "stdout",
     "output_type": "stream",
     "text": [
      "10a235.51.34Abcrt\n"
     ]
    },
    {
     "data": {
      "text/plain": [
       "6"
      ]
     },
     "execution_count": 99,
     "metadata": {},
     "output_type": "execute_result"
    }
   ],
   "source": [
    "string=''\n",
    "list5=[10, \"a\",2,3,5.5,1.34, \"Abc\", \"rt\"]\n",
    "for i in range(0,len(list5)):\n",
    "    x=str(list5[i])\n",
    "    string=string+x\n",
    "print(string)\n",
    "count=0\n",
    "for j in range(0,len(list5)):\n",
    "    z1=string[j].isdigit()\n",
    "    if z1==True:\n",
    "        count=count+1\n",
    "count\n"
   ]
  },
  {
   "cell_type": "code",
   "execution_count": 116,
   "id": "b2e518f8",
   "metadata": {},
   "outputs": [
    {
     "data": {
      "text/plain": [
       "3.5"
      ]
     },
     "execution_count": 116,
     "metadata": {},
     "output_type": "execute_result"
    }
   ],
   "source": [
    "l6=[1,2,3,4,5,6]\n",
    "s=0\n",
    "for i in l6:\n",
    "    s=s+i\n",
    "    a=(s/len(l6))\n",
    "a\n",
    "\n",
    "    \n",
    "    "
   ]
  },
  {
   "cell_type": "code",
   "execution_count": 123,
   "id": "52ce97d2",
   "metadata": {},
   "outputs": [
    {
     "data": {
      "text/plain": [
       "[6, 5, 4, 3, 2, 1]"
      ]
     },
     "execution_count": 123,
     "metadata": {},
     "output_type": "execute_result"
    }
   ],
   "source": [
    "list=[1,2,3,4,5,6]\n",
    "list[::-1]"
   ]
  },
  {
   "cell_type": "code",
   "execution_count": null,
   "id": "0b99bb21",
   "metadata": {},
   "outputs": [],
   "source": []
  }
 ],
 "metadata": {
  "kernelspec": {
   "display_name": "Python 3 (ipykernel)",
   "language": "python",
   "name": "python3"
  },
  "language_info": {
   "codemirror_mode": {
    "name": "ipython",
    "version": 3
   },
   "file_extension": ".py",
   "mimetype": "text/x-python",
   "name": "python",
   "nbconvert_exporter": "python",
   "pygments_lexer": "ipython3",
   "version": "3.9.13"
  }
 },
 "nbformat": 4,
 "nbformat_minor": 5
}
